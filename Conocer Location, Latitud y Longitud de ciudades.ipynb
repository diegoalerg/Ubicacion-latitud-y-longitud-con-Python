{
 "cells": [
  {
   "cell_type": "code",
   "execution_count": 1,
   "metadata": {},
   "outputs": [
    {
     "name": "stdout",
     "output_type": "stream",
     "text": [
      "Flatiron Building, 175, 5th Avenue, Flatiron District, Manhattan Community Board 5, Manhattan, New York County, New York, 10010, United States of America\n"
     ]
    }
   ],
   "source": [
    "import geopy\n",
    "\n",
    "from geopy.geocoders import Nominatim\n",
    "geolocator = Nominatim(user_agent=\"specify_your_app_name_here\")\n",
    "location = geolocator.geocode(\"175 5th avenue NYC\")\n",
    "print(location.address)\n"
   ]
  },
  {
   "cell_type": "code",
   "execution_count": 2,
   "metadata": {},
   "outputs": [
    {
     "name": "stdout",
     "output_type": "stream",
     "text": [
      "Introduzca la ciudad para conocer su latitud y longitudMADRID\n"
     ]
    }
   ],
   "source": [
    "ciudad = input(\"Introduzca la ciudad para conocer su latitud y longitud\")"
   ]
  },
  {
   "cell_type": "code",
   "execution_count": 3,
   "metadata": {},
   "outputs": [
    {
     "data": {
      "text/plain": [
       "'MADRID'"
      ]
     },
     "execution_count": 3,
     "metadata": {},
     "output_type": "execute_result"
    }
   ],
   "source": [
    "ciudad"
   ]
  },
  {
   "cell_type": "code",
   "execution_count": 7,
   "metadata": {},
   "outputs": [
    {
     "name": "stdout",
     "output_type": "stream",
     "text": [
      "Introduzca la ciudad para conocer su latitud y longitudCARACAS\n",
      "La longitud de CARACAS es -66.9146017 y la latitud es  10.506098\n"
     ]
    }
   ],
   "source": [
    "from geopy.geocoders import Nominatim\n",
    "geolocator = Nominatim(user_agent = \"geocipsa\")\n",
    "\n",
    "ciudad = input(\"Introduzca la ciudad para conocer su latitud y longitud\")\n",
    "location = geolocator.geocode(ciudad)\n",
    "latitud = location.latitude\n",
    "longitud = location.longitude\n",
    "\n",
    "\n",
    "print( \"La longitud de \", ciudad, \"es\", longitud, \"y la latitud es \", latitud)"
   ]
  },
  {
   "cell_type": "code",
   "execution_count": 8,
   "metadata": {},
   "outputs": [
    {
     "name": "stdout",
     "output_type": "stream",
     "text": [
      "[0, 1, 2, 3]\n"
     ]
    }
   ],
   "source": [
    "lista_ciudades = ['Barcelona', 'Paris', 'Londres', 'Madrid']\n",
    "\n",
    "rango = range(len(lista_ciudades))\n",
    "\n",
    "print(list(rango))"
   ]
  },
  {
   "cell_type": "code",
   "execution_count": 11,
   "metadata": {},
   "outputs": [
    {
     "name": "stdout",
     "output_type": "stream",
     "text": [
      "41.3828939 2.1774322\n",
      "48.8566969 2.3514616\n",
      "51.5073219 -0.1276474\n",
      "40.4167047 -3.7035825\n"
     ]
    }
   ],
   "source": [
    "for i in list(rango):\n",
    "    geolocalizacion = geolocator.geocode(lista_ciudades[i])\n",
    "    print(geolocalizacion.latitude, geolocalizacion.longitude)"
   ]
  },
  {
   "cell_type": "code",
   "execution_count": null,
   "metadata": {},
   "outputs": [],
   "source": []
  }
 ],
 "metadata": {
  "kernelspec": {
   "display_name": "Python 3",
   "language": "python",
   "name": "python3"
  },
  "language_info": {
   "codemirror_mode": {
    "name": "ipython",
    "version": 3
   },
   "file_extension": ".py",
   "mimetype": "text/x-python",
   "name": "python",
   "nbconvert_exporter": "python",
   "pygments_lexer": "ipython3",
   "version": "3.7.4"
  }
 },
 "nbformat": 4,
 "nbformat_minor": 2
}
